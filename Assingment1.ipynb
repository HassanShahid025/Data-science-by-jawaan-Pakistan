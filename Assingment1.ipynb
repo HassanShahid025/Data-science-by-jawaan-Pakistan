{
 "cells": [
  {
   "cell_type": "code",
   "execution_count": 1,
   "id": "cab393a0",
   "metadata": {},
   "outputs": [
    {
     "name": "stdout",
     "output_type": "stream",
     "text": [
      "Twinkle,twinkle,little star,\n",
      "\t\tHow I wonder what you are!\n",
      "\t\t\t\tUp above the world so high,\n",
      "\t\t\t\tLike a diamond in the sky.\n",
      "Twinkle,twinkle,little star,\n",
      "\t\tHow I wonder what you are!\n"
     ]
    }
   ],
   "source": [
    "print(\"Twinkle,twinkle,little star,\")\n",
    "print(\"\\t\\tHow I wonder what you are!\")\n",
    "print(\"\\t\\t\\t\\tUp above the world so high,\")\n",
    "print(\"\\t\\t\\t\\tLike a diamond in the sky.\")\n",
    "print(\"Twinkle,twinkle,little star,\")\n",
    "print(\"\\t\\tHow I wonder what you are!\")"
   ]
  },
  {
   "cell_type": "code",
   "execution_count": 1,
   "id": "355bf54b",
   "metadata": {},
   "outputs": [
    {
     "name": "stdout",
     "output_type": "stream",
     "text": [
      "3.9.7 (default, Sep 16 2021, 16:59:28) [MSC v.1916 64 bit (AMD64)]\n"
     ]
    }
   ],
   "source": [
    "import sys\n",
    "print(sys.version)"
   ]
  },
  {
   "cell_type": "code",
   "execution_count": 2,
   "id": "df107943",
   "metadata": {},
   "outputs": [
    {
     "name": "stdout",
     "output_type": "stream",
     "text": [
      "2021-12-30 19:33:56.878442\n"
     ]
    }
   ],
   "source": [
    "import datetime\n",
    "print(datetime.datetime.now())"
   ]
  },
  {
   "cell_type": "code",
   "execution_count": 3,
   "id": "40163497",
   "metadata": {},
   "outputs": [
    {
     "name": "stdout",
     "output_type": "stream",
     "text": [
      "Enter the radius of circle: 5\n",
      "The radius of circle is 78.53981633974483\n"
     ]
    }
   ],
   "source": [
    "import math\n",
    "rad=float(input(\"Enter the radius of circle: \"))\n",
    "print(\"The radius of circle is\",math.pi*(rad**2))"
   ]
  },
  {
   "cell_type": "code",
   "execution_count": null,
   "id": "ae2222e5",
   "metadata": {},
   "outputs": [],
   "source": [
    "a=input(\"Enter your first name: \")\n",
    "b=input(\"Enter your second name: \")\n",
    "print(b,a)"
   ]
  },
  {
   "cell_type": "code",
   "execution_count": null,
   "id": "a259b3b0",
   "metadata": {},
   "outputs": [],
   "source": [
    "a=int(input(\"Enter your first number: \"))\n",
    "b=int(input(\"Enter your second number: \"))\n",
    "print(\"Sum of these two numbers is:\",a+b)\n"
   ]
  },
  {
   "cell_type": "code",
   "execution_count": null,
   "id": "4e38145d",
   "metadata": {},
   "outputs": [],
   "source": []
  }
 ],
 "metadata": {
  "kernelspec": {
   "display_name": "Python 3 (ipykernel)",
   "language": "python",
   "name": "python3"
  },
  "language_info": {
   "codemirror_mode": {
    "name": "ipython",
    "version": 3
   },
   "file_extension": ".py",
   "mimetype": "text/x-python",
   "name": "python",
   "nbconvert_exporter": "python",
   "pygments_lexer": "ipython3",
   "version": "3.9.7"
  }
 },
 "nbformat": 4,
 "nbformat_minor": 5
}
